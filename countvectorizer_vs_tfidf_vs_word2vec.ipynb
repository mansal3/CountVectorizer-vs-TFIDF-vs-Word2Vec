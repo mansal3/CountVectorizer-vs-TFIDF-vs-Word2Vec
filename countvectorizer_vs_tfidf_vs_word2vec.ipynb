{
  "nbformat": 4,
  "nbformat_minor": 0,
  "metadata": {
    "colab": {
      "name": "countvectorizer vs tfidf vs word2vec.ipynb",
      "provenance": []
    },
    "kernelspec": {
      "name": "python3",
      "display_name": "Python 3"
    }
  },
  "cells": [
    {
      "cell_type": "code",
      "metadata": {
        "id": "h-GZMuIYH3Hy",
        "colab_type": "code",
        "colab": {}
      },
      "source": [
        "#Count Vectorizer\n",
        "#In this all the words has given as same important as all if word is present than 1 else 0 .\n",
        "#Usually this should it not happen in semantic analysis positive and negative word shoud be given more importance\n",
        "#Also no semanticc inormation is reserved-lost"
      ],
      "execution_count": 0,
      "outputs": []
    },
    {
      "cell_type": "code",
      "metadata": {
        "id": "4IMAVwDuA7Cs",
        "colab_type": "code",
        "colab": {}
      },
      "source": [
        "from sklearn.feature_extraction.text import CountVectorizer\n",
        "from sklearn.feature_extraction.text import TfidfVectorizer\n",
        "from pandas import DataFrame"
      ],
      "execution_count": 0,
      "outputs": []
    },
    {
      "cell_type": "code",
      "metadata": {
        "id": "joCvl9E3BY7N",
        "colab_type": "code",
        "colab": {}
      },
      "source": [
        "def createvectores(message,vectorizer):\n",
        "  doc_tem_matrix=vectorizer.fit_transform(message)\n",
        "  return DataFrame(doc_tem_matrix.toarray(),columns=vectorizer.get_feature_names())"
      ],
      "execution_count": 0,
      "outputs": []
    },
    {
      "cell_type": "code",
      "metadata": {
        "id": "CNRL0nC2EKPZ",
        "colab_type": "code",
        "colab": {}
      },
      "source": [
        "msg_1=[\"My Name is Manpreet\",\n",
        "       \"Today is good day \"]"
      ],
      "execution_count": 0,
      "outputs": []
    },
    {
      "cell_type": "code",
      "metadata": {
        "id": "2zsUxutuG-W9",
        "colab_type": "code",
        "colab": {}
      },
      "source": [
        "count_vect=CountVectorizer()"
      ],
      "execution_count": 0,
      "outputs": []
    },
    {
      "cell_type": "code",
      "metadata": {
        "id": "FJ7CGer2HBpQ",
        "colab_type": "code",
        "colab": {
          "base_uri": "https://localhost:8080/",
          "height": 111
        },
        "outputId": "92ba365d-ef5d-4f4e-eafa-ed736039ab8a"
      },
      "source": [
        "createvectores(msg_1,count_vect)"
      ],
      "execution_count": 18,
      "outputs": [
        {
          "output_type": "execute_result",
          "data": {
            "text/html": [
              "<div>\n",
              "<style scoped>\n",
              "    .dataframe tbody tr th:only-of-type {\n",
              "        vertical-align: middle;\n",
              "    }\n",
              "\n",
              "    .dataframe tbody tr th {\n",
              "        vertical-align: top;\n",
              "    }\n",
              "\n",
              "    .dataframe thead th {\n",
              "        text-align: right;\n",
              "    }\n",
              "</style>\n",
              "<table border=\"1\" class=\"dataframe\">\n",
              "  <thead>\n",
              "    <tr style=\"text-align: right;\">\n",
              "      <th></th>\n",
              "      <th>day</th>\n",
              "      <th>good</th>\n",
              "      <th>is</th>\n",
              "      <th>manpreet</th>\n",
              "      <th>my</th>\n",
              "      <th>name</th>\n",
              "      <th>today</th>\n",
              "    </tr>\n",
              "  </thead>\n",
              "  <tbody>\n",
              "    <tr>\n",
              "      <th>0</th>\n",
              "      <td>0</td>\n",
              "      <td>0</td>\n",
              "      <td>1</td>\n",
              "      <td>1</td>\n",
              "      <td>1</td>\n",
              "      <td>1</td>\n",
              "      <td>0</td>\n",
              "    </tr>\n",
              "    <tr>\n",
              "      <th>1</th>\n",
              "      <td>1</td>\n",
              "      <td>1</td>\n",
              "      <td>1</td>\n",
              "      <td>0</td>\n",
              "      <td>0</td>\n",
              "      <td>0</td>\n",
              "      <td>1</td>\n",
              "    </tr>\n",
              "  </tbody>\n",
              "</table>\n",
              "</div>"
            ],
            "text/plain": [
              "   day  good  is  manpreet  my  name  today\n",
              "0    0     0   1         1   1     1      0\n",
              "1    1     1   1         0   0     0      1"
            ]
          },
          "metadata": {
            "tags": []
          },
          "execution_count": 18
        }
      ]
    },
    {
      "cell_type": "code",
      "metadata": {
        "id": "clZLnPDdHL4A",
        "colab_type": "code",
        "colab": {}
      },
      "source": [
        "#TFIDF vectorizer\n",
        "#solution to the count vectorizer \n",
        "#semntic information is reserved as uncommon words present in sentence are givn more importance\n",
        "#tf= occurence of word/no of words in document\n",
        "#idf= log((no of document)/(no of document containing the word))\n"
      ],
      "execution_count": 0,
      "outputs": []
    },
    {
      "cell_type": "code",
      "metadata": {
        "id": "A3smt-KWH_uY",
        "colab_type": "code",
        "colab": {}
      },
      "source": [
        "tfidf_vect=TfidfVectorizer()"
      ],
      "execution_count": 0,
      "outputs": []
    },
    {
      "cell_type": "code",
      "metadata": {
        "id": "vVk45NgeIaob",
        "colab_type": "code",
        "colab": {}
      },
      "source": [
        "msg_2=[\"My Name is Manpreet \",\n",
        "       \"I am using TFIDF vectorizer\"]"
      ],
      "execution_count": 0,
      "outputs": []
    },
    {
      "cell_type": "code",
      "metadata": {
        "id": "RPlwcuqUIoTW",
        "colab_type": "code",
        "colab": {
          "base_uri": "https://localhost:8080/",
          "height": 111
        },
        "outputId": "9e28f71f-7049-4e15-d5a1-9e9b3c48e16f"
      },
      "source": [
        "createvectores(msg_2,tfidf_vect)"
      ],
      "execution_count": 21,
      "outputs": [
        {
          "output_type": "execute_result",
          "data": {
            "text/html": [
              "<div>\n",
              "<style scoped>\n",
              "    .dataframe tbody tr th:only-of-type {\n",
              "        vertical-align: middle;\n",
              "    }\n",
              "\n",
              "    .dataframe tbody tr th {\n",
              "        vertical-align: top;\n",
              "    }\n",
              "\n",
              "    .dataframe thead th {\n",
              "        text-align: right;\n",
              "    }\n",
              "</style>\n",
              "<table border=\"1\" class=\"dataframe\">\n",
              "  <thead>\n",
              "    <tr style=\"text-align: right;\">\n",
              "      <th></th>\n",
              "      <th>am</th>\n",
              "      <th>is</th>\n",
              "      <th>manpreet</th>\n",
              "      <th>my</th>\n",
              "      <th>name</th>\n",
              "      <th>tfidf</th>\n",
              "      <th>using</th>\n",
              "      <th>vectorizer</th>\n",
              "    </tr>\n",
              "  </thead>\n",
              "  <tbody>\n",
              "    <tr>\n",
              "      <th>0</th>\n",
              "      <td>0.0</td>\n",
              "      <td>0.5</td>\n",
              "      <td>0.5</td>\n",
              "      <td>0.5</td>\n",
              "      <td>0.5</td>\n",
              "      <td>0.0</td>\n",
              "      <td>0.0</td>\n",
              "      <td>0.0</td>\n",
              "    </tr>\n",
              "    <tr>\n",
              "      <th>1</th>\n",
              "      <td>0.5</td>\n",
              "      <td>0.0</td>\n",
              "      <td>0.0</td>\n",
              "      <td>0.0</td>\n",
              "      <td>0.0</td>\n",
              "      <td>0.5</td>\n",
              "      <td>0.5</td>\n",
              "      <td>0.5</td>\n",
              "    </tr>\n",
              "  </tbody>\n",
              "</table>\n",
              "</div>"
            ],
            "text/plain": [
              "    am   is  manpreet   my  name  tfidf  using  vectorizer\n",
              "0  0.0  0.5       0.5  0.5   0.5    0.0    0.0         0.0\n",
              "1  0.5  0.0       0.0  0.0   0.0    0.5    0.5         0.5"
            ]
          },
          "metadata": {
            "tags": []
          },
          "execution_count": 21
        }
      ]
    },
    {
      "cell_type": "code",
      "metadata": {
        "id": "MYzn0zfcItk_",
        "colab_type": "code",
        "colab": {}
      },
      "source": [
        "msg_3=[\"Manpreet Manpreet is here \",\n",
        "       \"Explaination for TFIDF vectorizer Manpreet\"]"
      ],
      "execution_count": 0,
      "outputs": []
    },
    {
      "cell_type": "code",
      "metadata": {
        "id": "sGAQu66HJBKp",
        "colab_type": "code",
        "colab": {
          "base_uri": "https://localhost:8080/",
          "height": 111
        },
        "outputId": "3740d784-55b7-4a98-c26e-eaf1032e8484"
      },
      "source": [
        "createvectores(msg_3,tfidf_vect)"
      ],
      "execution_count": 23,
      "outputs": [
        {
          "output_type": "execute_result",
          "data": {
            "text/html": [
              "<div>\n",
              "<style scoped>\n",
              "    .dataframe tbody tr th:only-of-type {\n",
              "        vertical-align: middle;\n",
              "    }\n",
              "\n",
              "    .dataframe tbody tr th {\n",
              "        vertical-align: top;\n",
              "    }\n",
              "\n",
              "    .dataframe thead th {\n",
              "        text-align: right;\n",
              "    }\n",
              "</style>\n",
              "<table border=\"1\" class=\"dataframe\">\n",
              "  <thead>\n",
              "    <tr style=\"text-align: right;\">\n",
              "      <th></th>\n",
              "      <th>explaination</th>\n",
              "      <th>for</th>\n",
              "      <th>here</th>\n",
              "      <th>is</th>\n",
              "      <th>manpreet</th>\n",
              "      <th>tfidf</th>\n",
              "      <th>vectorizer</th>\n",
              "    </tr>\n",
              "  </thead>\n",
              "  <tbody>\n",
              "    <tr>\n",
              "      <th>0</th>\n",
              "      <td>0.000000</td>\n",
              "      <td>0.000000</td>\n",
              "      <td>0.498446</td>\n",
              "      <td>0.498446</td>\n",
              "      <td>0.709297</td>\n",
              "      <td>0.000000</td>\n",
              "      <td>0.000000</td>\n",
              "    </tr>\n",
              "    <tr>\n",
              "      <th>1</th>\n",
              "      <td>0.471078</td>\n",
              "      <td>0.471078</td>\n",
              "      <td>0.000000</td>\n",
              "      <td>0.000000</td>\n",
              "      <td>0.335176</td>\n",
              "      <td>0.471078</td>\n",
              "      <td>0.471078</td>\n",
              "    </tr>\n",
              "  </tbody>\n",
              "</table>\n",
              "</div>"
            ],
            "text/plain": [
              "   explaination       for      here        is  manpreet     tfidf  vectorizer\n",
              "0      0.000000  0.000000  0.498446  0.498446  0.709297  0.000000    0.000000\n",
              "1      0.471078  0.471078  0.000000  0.000000  0.335176  0.471078    0.471078"
            ]
          },
          "metadata": {
            "tags": []
          },
          "execution_count": 23
        }
      ]
    },
    {
      "cell_type": "code",
      "metadata": {
        "id": "zolYwgpzJGuz",
        "colab_type": "code",
        "colab": {}
      },
      "source": [
        "#word vectorizer"
      ],
      "execution_count": 0,
      "outputs": []
    },
    {
      "cell_type": "code",
      "metadata": {
        "id": "i8nga4LLBSSE",
        "colab_type": "code",
        "colab": {}
      },
      "source": [
        "#Both in countvectorizer and tfidf semantic information is not stored that much.tfidf gives more importance to uncommon words\n",
        "#and there is obviously chnaces of overfitting\n",
        "#In word2vec each word is representated as vector of 32 or more dimension instead of single number\n",
        "#here semantic information between different word also "
      ],
      "execution_count": 0,
      "outputs": []
    },
    {
      "cell_type": "code",
      "metadata": {
        "id": "Gyac5EZTSKhx",
        "colab_type": "code",
        "colab": {}
      },
      "source": [
        "from gensim.models import Word2Vec"
      ],
      "execution_count": 0,
      "outputs": []
    },
    {
      "cell_type": "code",
      "metadata": {
        "id": "rRm6maknS8jE",
        "colab_type": "code",
        "colab": {}
      },
      "source": [
        "word_vec=Word2Vec()"
      ],
      "execution_count": 0,
      "outputs": []
    },
    {
      "cell_type": "code",
      "metadata": {
        "id": "XgJ7pPeLTE2w",
        "colab_type": "code",
        "colab": {}
      },
      "source": [
        "model=Word2Vec(msg_3,min_count=1)"
      ],
      "execution_count": 0,
      "outputs": []
    },
    {
      "cell_type": "code",
      "metadata": {
        "id": "RJLm9YD-TwtX",
        "colab_type": "code",
        "colab": {}
      },
      "source": [
        ""
      ],
      "execution_count": 0,
      "outputs": []
    },
    {
      "cell_type": "code",
      "metadata": {
        "id": "wkoqY4qjUI4P",
        "colab_type": "code",
        "colab": {}
      },
      "source": [
        ""
      ],
      "execution_count": 0,
      "outputs": []
    },
    {
      "cell_type": "code",
      "metadata": {
        "id": "sDmnBsfNUGhw",
        "colab_type": "code",
        "colab": {}
      },
      "source": [
        ""
      ],
      "execution_count": 0,
      "outputs": []
    },
    {
      "cell_type": "code",
      "metadata": {
        "id": "ScogCYDoUDeV",
        "colab_type": "code",
        "colab": {}
      },
      "source": [
        ""
      ],
      "execution_count": 0,
      "outputs": []
    },
    {
      "cell_type": "code",
      "metadata": {
        "id": "H0ahRNluT9Wx",
        "colab_type": "code",
        "colab": {}
      },
      "source": [
        ""
      ],
      "execution_count": 0,
      "outputs": []
    },
    {
      "cell_type": "code",
      "metadata": {
        "id": "tMvQVmCwTM5i",
        "colab_type": "code",
        "colab": {}
      },
      "source": [
        ""
      ],
      "execution_count": 0,
      "outputs": []
    },
    {
      "cell_type": "code",
      "metadata": {
        "id": "Z9F4t3LaS1vT",
        "colab_type": "code",
        "colab": {}
      },
      "source": [
        ""
      ],
      "execution_count": 0,
      "outputs": []
    },
    {
      "cell_type": "code",
      "metadata": {
        "id": "3mU16pIUSmeg",
        "colab_type": "code",
        "colab": {}
      },
      "source": [
        ""
      ],
      "execution_count": 0,
      "outputs": []
    },
    {
      "cell_type": "code",
      "metadata": {
        "id": "XZksCgGuSfAq",
        "colab_type": "code",
        "colab": {}
      },
      "source": [
        ""
      ],
      "execution_count": 0,
      "outputs": []
    },
    {
      "cell_type": "code",
      "metadata": {
        "id": "c1uETKCtSZSS",
        "colab_type": "code",
        "colab": {}
      },
      "source": [
        ""
      ],
      "execution_count": 0,
      "outputs": []
    },
    {
      "cell_type": "code",
      "metadata": {
        "id": "C2j3e-GpSSVH",
        "colab_type": "code",
        "colab": {}
      },
      "source": [
        ""
      ],
      "execution_count": 0,
      "outputs": []
    },
    {
      "cell_type": "code",
      "metadata": {
        "id": "EbKrUREhSMmK",
        "colab_type": "code",
        "colab": {}
      },
      "source": [
        ""
      ],
      "execution_count": 0,
      "outputs": []
    },
    {
      "cell_type": "markdown",
      "metadata": {
        "id": "ItZuRpZKBhwb",
        "colab_type": "text"
      },
      "source": [
        "m"
      ]
    }
  ]
}